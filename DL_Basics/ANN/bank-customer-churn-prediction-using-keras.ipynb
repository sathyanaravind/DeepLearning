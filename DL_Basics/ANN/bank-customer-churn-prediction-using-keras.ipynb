{
 "cells": [
  {
   "cell_type": "code",
   "execution_count": 31,
   "metadata": {
    "execution": {
     "iopub.execute_input": "2021-10-08T15:52:38.118962Z",
     "iopub.status.busy": "2021-10-08T15:52:38.118535Z",
     "iopub.status.idle": "2021-10-08T15:52:38.827977Z",
     "shell.execute_reply": "2021-10-08T15:52:38.827151Z",
     "shell.execute_reply.started": "2021-10-08T15:52:38.118931Z"
    }
   },
   "outputs": [],
   "source": [
    "import pandas as pd\n",
    "import numpy as np\n",
    "import matplotlib.pyplot as plt\n",
    "%matplotlib inline\n",
    "import seaborn as sns\n",
    "\n",
    "import tensorflow as tf\n",
    "from tensorflow import keras\n"
   ]
  },
  {
   "cell_type": "code",
   "execution_count": 5,
   "metadata": {
    "execution": {
     "iopub.execute_input": "2021-10-08T15:25:24.093976Z",
     "iopub.status.busy": "2021-10-08T15:25:24.093676Z",
     "iopub.status.idle": "2021-10-08T15:25:24.132783Z",
     "shell.execute_reply": "2021-10-08T15:25:24.131906Z",
     "shell.execute_reply.started": "2021-10-08T15:25:24.093946Z"
    }
   },
   "outputs": [],
   "source": [
    "#importing data\n",
    "df=pd.read_csv(\"../input/bank-customer-churn-modeling/Churn_Modelling.csv\")\n",
    "df.head()"
   ]
  },
  {
   "cell_type": "code",
   "execution_count": 6,
   "metadata": {
    "execution": {
     "iopub.execute_input": "2021-10-08T15:25:34.802821Z",
     "iopub.status.busy": "2021-10-08T15:25:34.802469Z",
     "iopub.status.idle": "2021-10-08T15:25:34.808767Z",
     "shell.execute_reply": "2021-10-08T15:25:34.807917Z",
     "shell.execute_reply.started": "2021-10-08T15:25:34.802789Z"
    }
   },
   "outputs": [],
   "source": [
    "df.shape"
   ]
  },
  {
   "cell_type": "code",
   "execution_count": 8,
   "metadata": {
    "execution": {
     "iopub.execute_input": "2021-10-08T15:28:24.673874Z",
     "iopub.status.busy": "2021-10-08T15:28:24.673602Z",
     "iopub.status.idle": "2021-10-08T15:28:24.697916Z",
     "shell.execute_reply": "2021-10-08T15:28:24.697075Z",
     "shell.execute_reply.started": "2021-10-08T15:28:24.673848Z"
    }
   },
   "outputs": [],
   "source": [
    "#Removing unncessary feature\n",
    "df.drop(['RowNumber','CustomerId','Surname'],axis='columns',inplace=True)\n",
    "df.head()"
   ]
  },
  {
   "cell_type": "code",
   "execution_count": 32,
   "metadata": {
    "execution": {
     "iopub.execute_input": "2021-10-08T15:53:09.191150Z",
     "iopub.status.busy": "2021-10-08T15:53:09.189410Z",
     "iopub.status.idle": "2021-10-08T15:53:29.860313Z",
     "shell.execute_reply": "2021-10-08T15:53:29.852764Z",
     "shell.execute_reply.started": "2021-10-08T15:53:09.191084Z"
    }
   },
   "outputs": [],
   "source": [
    "sns.pairplot(df)"
   ]
  },
  {
   "cell_type": "code",
   "execution_count": 28,
   "metadata": {
    "execution": {
     "iopub.execute_input": "2021-10-08T15:46:50.198238Z",
     "iopub.status.busy": "2021-10-08T15:46:50.197947Z",
     "iopub.status.idle": "2021-10-08T15:46:50.207580Z",
     "shell.execute_reply": "2021-10-08T15:46:50.206631Z",
     "shell.execute_reply.started": "2021-10-08T15:46:50.198210Z"
    }
   },
   "outputs": [],
   "source": [
    "#Histogram for Exited and Not excited customers\n",
    "df_Exit1=df[df.Exited==1]\n",
    "df_Exit0=df[df.Exited==0]\n",
    "\n"
   ]
  },
  {
   "cell_type": "code",
   "execution_count": 33,
   "metadata": {
    "execution": {
     "iopub.execute_input": "2021-10-08T16:04:45.040970Z",
     "iopub.status.busy": "2021-10-08T16:04:45.040179Z",
     "iopub.status.idle": "2021-10-08T16:04:45.048299Z",
     "shell.execute_reply": "2021-10-08T16:04:45.047361Z",
     "shell.execute_reply.started": "2021-10-08T16:04:45.040921Z"
    }
   },
   "outputs": [],
   "source": [
    "df_Exit1.shape,df_Exit0.shape"
   ]
  },
  {
   "cell_type": "code",
   "execution_count": 30,
   "metadata": {
    "execution": {
     "iopub.execute_input": "2021-10-08T15:51:23.723827Z",
     "iopub.status.busy": "2021-10-08T15:51:23.723527Z",
     "iopub.status.idle": "2021-10-08T15:51:24.014942Z",
     "shell.execute_reply": "2021-10-08T15:51:24.014086Z",
     "shell.execute_reply.started": "2021-10-08T15:51:23.723795Z"
    }
   },
   "outputs": [],
   "source": [
    "plt.hist([df_Exit1.CreditScore,df_Exit1.CreditScore],color=['blue','red'])"
   ]
  },
  {
   "cell_type": "code",
   "execution_count": 13,
   "metadata": {
    "execution": {
     "iopub.execute_input": "2021-10-08T15:30:39.038609Z",
     "iopub.status.busy": "2021-10-08T15:30:39.038278Z",
     "iopub.status.idle": "2021-10-08T15:30:39.047010Z",
     "shell.execute_reply": "2021-10-08T15:30:39.046036Z",
     "shell.execute_reply.started": "2021-10-08T15:30:39.038575Z"
    }
   },
   "outputs": [],
   "source": [
    "#datatypes of columns\n",
    "df.dtypes"
   ]
  },
  {
   "cell_type": "code",
   "execution_count": 23,
   "metadata": {
    "execution": {
     "iopub.execute_input": "2021-10-08T15:36:10.573342Z",
     "iopub.status.busy": "2021-10-08T15:36:10.573070Z",
     "iopub.status.idle": "2021-10-08T15:36:10.582234Z",
     "shell.execute_reply": "2021-10-08T15:36:10.581387Z",
     "shell.execute_reply.started": "2021-10-08T15:36:10.573315Z"
    }
   },
   "outputs": [],
   "source": [
    "df.Geography.unique()"
   ]
  },
  {
   "cell_type": "markdown",
   "metadata": {},
   "source": [
    "#### So 2 feature are objects and rest are either int or float. Separating object type columns from rest and converting them intodummies"
   ]
  },
  {
   "cell_type": "code",
   "execution_count": 27,
   "metadata": {
    "execution": {
     "iopub.execute_input": "2021-10-08T15:42:44.977795Z",
     "iopub.status.busy": "2021-10-08T15:42:44.977481Z",
     "iopub.status.idle": "2021-10-08T15:42:45.001495Z",
     "shell.execute_reply": "2021-10-08T15:42:45.000697Z",
     "shell.execute_reply.started": "2021-10-08T15:42:44.977766Z"
    }
   },
   "outputs": [],
   "source": [
    "df1=pd.get_dummies(df,drop_first=True)\n",
    "df1.head()"
   ]
  },
  {
   "cell_type": "code",
   "execution_count": 35,
   "metadata": {
    "execution": {
     "iopub.execute_input": "2021-10-08T16:06:46.153699Z",
     "iopub.status.busy": "2021-10-08T16:06:46.153381Z",
     "iopub.status.idle": "2021-10-08T16:06:46.161737Z",
     "shell.execute_reply": "2021-10-08T16:06:46.160959Z",
     "shell.execute_reply.started": "2021-10-08T16:06:46.153668Z"
    }
   },
   "outputs": [],
   "source": [
    "X=df.drop('Exited',axis='columns')\n",
    "y=df.Exited"
   ]
  },
  {
   "cell_type": "code",
   "execution_count": 36,
   "metadata": {
    "execution": {
     "iopub.execute_input": "2021-10-08T16:07:08.119606Z",
     "iopub.status.busy": "2021-10-08T16:07:08.119304Z",
     "iopub.status.idle": "2021-10-08T16:07:08.125788Z",
     "shell.execute_reply": "2021-10-08T16:07:08.124848Z",
     "shell.execute_reply.started": "2021-10-08T16:07:08.119576Z"
    }
   },
   "outputs": [],
   "source": [
    "X.shape,y.shape"
   ]
  },
  {
   "cell_type": "code",
   "execution_count": 37,
   "metadata": {
    "execution": {
     "iopub.execute_input": "2021-10-08T16:08:05.957917Z",
     "iopub.status.busy": "2021-10-08T16:08:05.957613Z",
     "iopub.status.idle": "2021-10-08T16:08:05.965453Z",
     "shell.execute_reply": "2021-10-08T16:08:05.964426Z",
     "shell.execute_reply.started": "2021-10-08T16:08:05.957889Z"
    }
   },
   "outputs": [],
   "source": [
    "y.dtype"
   ]
  },
  {
   "cell_type": "code",
   "execution_count": null,
   "metadata": {},
   "outputs": [],
   "source": [
    "y.reshape(1)"
   ]
  },
  {
   "cell_type": "code",
   "execution_count": 34,
   "metadata": {
    "execution": {
     "iopub.execute_input": "2021-10-08T16:05:48.719665Z",
     "iopub.status.busy": "2021-10-08T16:05:48.719347Z",
     "iopub.status.idle": "2021-10-08T16:05:48.910157Z",
     "shell.execute_reply": "2021-10-08T16:05:48.909351Z",
     "shell.execute_reply.started": "2021-10-08T16:05:48.719631Z"
    }
   },
   "outputs": [],
   "source": [
    "from sklearn.model_selection import train_test_split\n"
   ]
  },
  {
   "cell_type": "code",
   "execution_count": null,
   "metadata": {},
   "outputs": [],
   "source": []
  }
 ],
 "metadata": {
  "kernelspec": {
   "display_name": "Python 3",
   "language": "python",
   "name": "python3"
  },
  "language_info": {
   "codemirror_mode": {
    "name": "ipython",
    "version": 3
   },
   "file_extension": ".py",
   "mimetype": "text/x-python",
   "name": "python",
   "nbconvert_exporter": "python",
   "pygments_lexer": "ipython3",
   "version": "3.7.4"
  }
 },
 "nbformat": 4,
 "nbformat_minor": 4
}
